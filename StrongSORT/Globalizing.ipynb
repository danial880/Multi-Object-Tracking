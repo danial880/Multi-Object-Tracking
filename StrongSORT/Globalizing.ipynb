{
 "cells": [
  {
   "cell_type": "code",
   "execution_count": 1,
   "id": "b89c6aaf",
   "metadata": {},
   "outputs": [],
   "source": [
    "import re\n",
    "from os import listdir\n",
    "from os.path import isfile, join"
   ]
  },
  {
   "cell_type": "code",
   "execution_count": 2,
   "id": "c5522ae4",
   "metadata": {},
   "outputs": [],
   "source": [
    "def sort_files(value):\n",
    "    num = re.compile(r'(\\d+)')\n",
    "    chunks = num.split(value)\n",
    "    chunks[1::2] = map(int, chunks[1::2])\n",
    "    return chunks\n",
    "\n"
   ]
  },
  {
   "cell_type": "code",
   "execution_count": 3,
   "id": "5a6b05bf",
   "metadata": {},
   "outputs": [],
   "source": [
    "img_dir = 'sliced_seq1'"
   ]
  },
  {
   "cell_type": "code",
   "execution_count": 4,
   "id": "06dc1f48",
   "metadata": {},
   "outputs": [
    {
     "name": "stdout",
     "output_type": "stream",
     "text": [
      "Before Sorting =  ['SEQ_01_001.jpg__15160_10732.jpg', 'SEQ_01_001.jpg__0_10732.jpg', 'SEQ_01_001.jpg__0_8440.jpg', 'SEQ_01_001.jpg__0_0.jpg', 'SEQ_01_001.jpg__7580_8440.jpg', 'SEQ_01_001.jpg__19073_0.jpg', 'SEQ_01_001.jpg__0_4220.jpg', 'SEQ_01_001.jpg__19073_10732.jpg', 'SEQ_01_001.jpg__19073_4220.jpg', 'SEQ_01_001.jpg__19073_8440.jpg', 'SEQ_01_001.jpg__15160_8440.jpg', 'SEQ_01_001.jpg__7580_4220.jpg', 'SEQ_01_001.jpg__7580_0.jpg', 'SEQ_01_001.jpg__15160_0.jpg', 'SEQ_01_001.jpg__7580_10732.jpg', 'SEQ_01_001.jpg__15160_4220.jpg']\n",
      "\n",
      "After Sorting =  ['SEQ_01_001.jpg__0_0.jpg', 'SEQ_01_001.jpg__0_4220.jpg', 'SEQ_01_001.jpg__0_8440.jpg', 'SEQ_01_001.jpg__0_10732.jpg', 'SEQ_01_001.jpg__7580_0.jpg', 'SEQ_01_001.jpg__7580_4220.jpg', 'SEQ_01_001.jpg__7580_8440.jpg', 'SEQ_01_001.jpg__7580_10732.jpg', 'SEQ_01_001.jpg__15160_0.jpg', 'SEQ_01_001.jpg__15160_4220.jpg', 'SEQ_01_001.jpg__15160_8440.jpg', 'SEQ_01_001.jpg__15160_10732.jpg', 'SEQ_01_001.jpg__19073_0.jpg', 'SEQ_01_001.jpg__19073_4220.jpg', 'SEQ_01_001.jpg__19073_8440.jpg', 'SEQ_01_001.jpg__19073_10732.jpg']\n"
     ]
    }
   ],
   "source": [
    "files = [file for file in listdir(img_dir)\n",
    "                    if isfile(join(img_dir, file))]\n",
    "print('Before Sorting = ',files)\n",
    "files.sort(key = sort_files)\n",
    "print('\\nAfter Sorting = ',files)"
   ]
  },
  {
   "cell_type": "code",
   "execution_count": 20,
   "id": "acf9fbcf",
   "metadata": {},
   "outputs": [
    {
     "name": "stdout",
     "output_type": "stream",
     "text": [
      "<class 'int'> 7580 <class 'int'> 0\n"
     ]
    }
   ],
   "source": [
    "s1 = files[4]\n",
    "s1 = s1.replace(\"__\",\"\")\n",
    "s1_split_name = s1.split('.jpg')\n",
    "w, h = map(int, s1_split_name[1].split('_'))\n",
    "#add_height = int(h), int(w)\n",
    "print(type(h),h,type(w),w)"
   ]
  }
 ],
 "metadata": {
  "kernelspec": {
   "display_name": "Python 3 (ipykernel)",
   "language": "python",
   "name": "python3"
  },
  "language_info": {
   "codemirror_mode": {
    "name": "ipython",
    "version": 3
   },
   "file_extension": ".py",
   "mimetype": "text/x-python",
   "name": "python",
   "nbconvert_exporter": "python",
   "pygments_lexer": "ipython3",
   "version": "3.7.13"
  }
 },
 "nbformat": 4,
 "nbformat_minor": 5
}
